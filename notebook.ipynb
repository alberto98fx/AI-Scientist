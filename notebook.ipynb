{
 "cells": [
  {
   "cell_type": "markdown",
   "metadata": {},
   "source": [
    "# AI Scientist Environment Setup\n",
    "This notebook will help you set up an environment for running AI experiments using various tools such as NanoGPT, 2D Diffusion, and Grokking.\n",
    "\n",
    "In Google Colab, you will be prompted to securely enter your API keys."
   ]
  },
  {
   "cell_type": "code",
   "execution_count": null,
   "metadata": {},
   "outputs": [],
   "source": [
    "# Install Miniconda\n",
    "!wget https://repo.anaconda.com/miniconda/Miniconda3-latest-Linux-x86_64.sh -O miniconda.sh\n",
    "!bash miniconda.sh -b -p $HOME/miniconda\n",
    "!eval \"$($HOME/miniconda/bin/conda shell.bash hook)\""
   ]
  },
  {
   "cell_type": "code",
   "execution_count": null,
   "metadata": {},
   "outputs": [],
   "source": [
    "# Create a new conda environment with Python 3.11\n",
    "!conda create -n ai_scientist python=3.11 -y\n",
    "!conda activate ai_scientist"
   ]
  },
  {
   "cell_type": "code",
   "execution_count": null,
   "metadata": {},
   "outputs": [],
   "source": [
    "# Install necessary Python packages for LLM APIs\n",
    "!pip install anthropic aider-chat backoff openai"
   ]
  },
  {
   "cell_type": "code",
   "execution_count": null,
   "metadata": {},
   "outputs": [],
   "source": [
    "# Install visualization tools\n",
    "!pip install matplotlib pypdf pymupdf4llm"
   ]
  },
  {
   "cell_type": "code",
   "execution_count": null,
   "metadata": {},
   "outputs": [],
   "source": [
    "# Install pdflatex via texlive\n",
    "!sudo apt-get update && sudo apt-get install texlive-full -y"
   ]
  },
  {
   "cell_type": "code",
   "execution_count": null,
   "metadata": {},
   "outputs": [],
   "source": [
    "# Install common requirements\n",
    "!pip install torch numpy transformers datasets tiktoken wandb tqdm"
   ]
  },
  {
   "cell_type": "markdown",
   "metadata": {},
   "source": [
    "### Set up environment variables for API keys in Google Colab"
   ]
  },
  {
   "cell_type": "code",
   "execution_count": null,
   "metadata": {},
   "outputs": [],
   "source": [
    "from getpass import getpass\n",
    "import os\n",
    "\n",
    "# Prompt the user to enter API keys securely\n",
    "openai_api_key = getpass('Enter your OpenAI API Key: ')\n",
    "s2_api_key = getpass('Enter your S2 API Key: ')\n",
    "\n",
    "# Set the environment variables\n",
    "os.environ['OPENAI_API_KEY'] = openai_api_key\n",
    "os.environ['S2_API_KEY'] = s2_api_key"
   ]
  },
  {
   "cell_type": "markdown",
   "metadata": {},
   "source": [
    "### Prepare NanoGPT data"
   ]
  },
  {
   "cell_type": "code",
   "execution_count": null,
   "metadata": {},
   "outputs": [],
   "source": [
    "!python data/enwik8/prepare.py\n",
    "!python data/shakespeare_char/prepare.py\n",
    "!python data/text8/prepare.py"
   ]
  },
  {
   "cell_type": "markdown",
   "metadata": {},
   "source": [
    "### Set up NanoGPT baseline run"
   ]
  },
  {
   "cell_type": "code",
   "execution_count": null,
   "metadata": {},
   "outputs": [],
   "source": [
    "!cd templates/nanoGPT && python experiment.py --out_dir run_0 && python plot.py"
   ]
  },
  {
   "cell_type": "markdown",
   "metadata": {},
   "source": [
    "### Set up NanoGPT Lite baseline run"
   ]
  },
  {
   "cell_type": "code",
   "execution_count": null,
   "metadata": {},
   "outputs": [],
   "source": [
    "!cd templates/nanoGPT_lite && python experiment.py --out_dir run_0 && python plot.py"
   ]
  },
  {
   "cell_type": "markdown",
   "metadata": {},
   "source": [
    "### Set up 2D Diffusion environment"
   ]
  },
  {
   "cell_type": "code",
   "execution_count": null,
   "metadata": {},
   "outputs": [],
   "source": [
    "!git clone https://github.com/gregversteeg/NPEET.git\n",
    "!cd NPEET && pip install . && pip install scikit-learn"
   ]
  },
  {
   "cell_type": "markdown",
   "metadata": {},
   "source": [
    "### Set up 2D Diffusion baseline run"
   ]
  },
  {
   "cell_type": "code",
   "execution_count": null,
   "metadata": {},
   "outputs": [],
   "source": [
    "!cd templates/2d_diffusion && python experiment.py --out_dir run_0 && python plot.py"
   ]
  },
  {
   "cell_type": "markdown",
   "metadata": {},
   "source": [
    "### Set up Grokking baseline run"
   ]
  },
  {
   "cell_type": "code",
   "execution_count": null,
   "metadata": {},
   "outputs": [],
   "source": [
    "!cd templates/grokking && python experiment.py --out_dir run_0 && python plot.py"
   ]
  },
  {
   "cell_type": "markdown",
   "metadata": {},
   "source": [
    "### Run the paper generation."
   ]
  },
  {
   "cell_type": "code",
   "execution_count": null,
   "metadata": {},
   "outputs": [],
   "source": [
    "!conda activate ai_scientist\n",
    "!python launch_scientist.py --model \"gpt-4o-2024-05-13\" --experiment nanoGPT_lite --num-ideas 2"
   ]
  }
 ],
 "metadata": {
  "kernelspec": {
   "display_name": "Python 3",
   "language": "python",
   "name": "python3"
  },
  "language_info": {
   "codemirror_mode": {
    "name": "ipython",
    "version": 3
   },
   "file_extension": ".py",
   "mimetype": "text/x-python",
   "name": "python",
   "nbconvert_exporter": "python",
   "version": "3.8.10"
  }
 },
 "nbformat": 4,
 "nbformat_minor": 5
}
